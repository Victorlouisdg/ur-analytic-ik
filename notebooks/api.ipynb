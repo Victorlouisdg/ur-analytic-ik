{
 "cells": [
  {
   "cell_type": "code",
   "execution_count": null,
   "metadata": {},
   "outputs": [],
   "source": [
    "import numpy as np\n",
    "np.set_printoptions(precision=4, suppress=True) # Prettier printing"
   ]
  },
  {
   "cell_type": "code",
   "execution_count": null,
   "metadata": {},
   "outputs": [],
   "source": [
    "import ur_analytic_ik"
   ]
  },
  {
   "cell_type": "code",
   "execution_count": null,
   "metadata": {},
   "outputs": [],
   "source": [
    "from ur_analytic_ik import ur5e\n",
    "# import ur_analytic_ik.ur5e # Not allowed"
   ]
  },
  {
   "cell_type": "code",
   "execution_count": null,
   "metadata": {},
   "outputs": [],
   "source": [
    "ur5e.forward_kinematics(0, 0, 0, 0, 0, 0)"
   ]
  },
  {
   "cell_type": "code",
   "execution_count": null,
   "metadata": {},
   "outputs": [],
   "source": [
    "eef_pose = np.identity(4)\n",
    "eef_pose[0, 3] = -0.2\n",
    "eef_pose[1, 3] = -0.2\n",
    "eef_pose[2, 3] = 0.3\n",
    "ur5e.inverse_kinematics(eef_pose)"
   ]
  },
  {
   "cell_type": "code",
   "execution_count": null,
   "metadata": {},
   "outputs": [],
   "source": [
    "from ur_analytic_ik import ur3e\n",
    "ur3e.inverse_kinematics(eef_pose)"
   ]
  },
  {
   "cell_type": "code",
   "execution_count": null,
   "metadata": {},
   "outputs": [],
   "source": [
    "ur3e.forward_kinematics(0, 0, 0, 0, 0, 0)"
   ]
  },
  {
   "cell_type": "code",
   "execution_count": null,
   "metadata": {},
   "outputs": [],
   "source": [
    "tcp_transform = np.identity(4)\n",
    "tcp_transform[2, 3] = 0.2\n",
    "tcp_pose = ur3e.forward_kinematics_with_tcp(0, 0, 0, 0, 0, 0, tcp_transform)\n",
    "tcp_pose"
   ]
  },
  {
   "cell_type": "code",
   "execution_count": null,
   "metadata": {},
   "outputs": [],
   "source": [
    "ur3e.forward_kinematics(0, 0, 0, 0, 0, 0) @ tcp_transform"
   ]
  },
  {
   "cell_type": "code",
   "execution_count": null,
   "metadata": {},
   "outputs": [],
   "source": [
    "ur3e.inverse_kinematics_with_tcp(np.array(tcp_pose), tcp_transform)"
   ]
  },
  {
   "cell_type": "code",
   "execution_count": null,
   "metadata": {},
   "outputs": [],
   "source": [
    "fk = ur3e.forward_kinematics\n",
    "fk(0,0,0,0,0,0)"
   ]
  },
  {
   "cell_type": "code",
   "execution_count": null,
   "metadata": {},
   "outputs": [],
   "source": [
    "ur3e.inverse_kinematics(np.array(fk(0,0,0,0,0,0)))"
   ]
  },
  {
   "cell_type": "code",
   "execution_count": null,
   "metadata": {},
   "outputs": [],
   "source": [
    "%%timeit\n",
    "fk(0,0,0,0,0,0)"
   ]
  },
  {
   "cell_type": "code",
   "execution_count": null,
   "metadata": {},
   "outputs": [],
   "source": [
    "%%timeit\n",
    "ur3e.inverse_kinematics(eef_pose)"
   ]
  },
  {
   "cell_type": "code",
   "execution_count": null,
   "metadata": {},
   "outputs": [],
   "source": [
    "%%timeit\n",
    "ur3e.inverse_kinematics_with_tcp(eef_pose, tcp_transform)"
   ]
  },
  {
   "cell_type": "code",
   "execution_count": null,
   "metadata": {},
   "outputs": [],
   "source": [
    "ur3e.inverse_kinematics(eef_pose)"
   ]
  },
  {
   "cell_type": "code",
   "execution_count": null,
   "metadata": {},
   "outputs": [],
   "source": [
    "ur3e.inverse_kinematics_closest(eef_pose, *np.array([0, 0, 0, 0, 0, 0]))"
   ]
  },
  {
   "cell_type": "code",
   "execution_count": null,
   "metadata": {},
   "outputs": [],
   "source": [
    "for pose in ur3e.inverse_kinematics(eef_pose):\n",
    "    print(np.linalg.norm(pose))"
   ]
  },
  {
   "cell_type": "code",
   "execution_count": null,
   "metadata": {},
   "outputs": [],
   "source": [
    "import numpy as np\n",
    "from ur_analytic_ik import ur3e\n",
    "\n",
    "joints = np.zeros(6)\n",
    "eef_pose = np.identity(4)\n",
    "eef_pose[2, 3] = 0.4\n",
    "tcp_transform = np.identity(4)\n",
    "tcp_transform[2, 3] = 0.1\n",
    "\n",
    "ur3e.forward_kinematics(0, 0, 0, 0, 0, 0)\n",
    "ur3e.forward_kinematics(*joints)\n",
    "tcp_pose = ur3e.forward_kinematics_with_tcp(*joints, tcp_transform)\n",
    "\n",
    "joint_solutions = ur3e.inverse_kinematics(eef_pose)\n",
    "joint_solutions = ur3e.inverse_kinematics_closest(eef_pose, *joints)\n",
    "joint_solutions = ur3e.inverse_kinematics_with_tcp(eef_pose, tcp_transform)"
   ]
  },
  {
   "cell_type": "code",
   "execution_count": null,
   "metadata": {},
   "outputs": [],
   "source": [
    "import numpy as np\n",
    "from ur_analytic_ik import ur5e\n",
    "\n",
    "eef_pose = np.identity(4)\n",
    "X = np.array([-1.0, 0.0, 0.0])\n",
    "Y = np.array([0.0, 1.0, 0.0])\n",
    "Z = np.array([0.0, 0.0, -1.0])\n",
    "top_down_orientation = np.column_stack([X, Y, Z])\n",
    "translation = np.array([-0.2, -0.2, 0.2])\n",
    "\n",
    "eef_pose[:3, :3] = top_down_orientation\n",
    "eef_pose[:3, 3] = translation\n",
    "\n",
    "solutions = ur5e.inverse_kinematics(eef_pose)"
   ]
  },
  {
   "cell_type": "code",
   "execution_count": null,
   "metadata": {},
   "outputs": [],
   "source": []
  }
 ],
 "metadata": {
  "kernelspec": {
   "display_name": "airo-mono",
   "language": "python",
   "name": "python3"
  },
  "language_info": {
   "codemirror_mode": {
    "name": "ipython",
    "version": 3
   },
   "file_extension": ".py",
   "mimetype": "text/x-python",
   "name": "python",
   "nbconvert_exporter": "python",
   "pygments_lexer": "ipython3",
   "version": "3.9.13"
  },
  "orig_nbformat": 4,
  "vscode": {
   "interpreter": {
    "hash": "043dc9a901207ac09ff4dd0b195f25fbfbd8d964df39a41dc2aeb271f271896e"
   }
  }
 },
 "nbformat": 4,
 "nbformat_minor": 2
}
