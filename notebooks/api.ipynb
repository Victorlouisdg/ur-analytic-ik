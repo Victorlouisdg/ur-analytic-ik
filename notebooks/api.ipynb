{
 "cells": [
  {
   "cell_type": "code",
   "execution_count": 21,
   "metadata": {},
   "outputs": [],
   "source": [
    "import numpy as np\n",
    "np.set_printoptions(precision=4, suppress=True) # Prettier printing"
   ]
  },
  {
   "cell_type": "code",
   "execution_count": 22,
   "metadata": {},
   "outputs": [],
   "source": [
    "import ur_analytic_ik"
   ]
  },
  {
   "cell_type": "code",
   "execution_count": 23,
   "metadata": {},
   "outputs": [],
   "source": [
    "from ur_analytic_ik import ur5e\n",
    "# import ur_analytic_ik.ur5e # Not allowed"
   ]
  },
  {
   "cell_type": "code",
   "execution_count": 24,
   "metadata": {},
   "outputs": [
    {
     "data": {
      "text/plain": [
       "array([[ 1.    ,  0.    ,  0.    , -0.8172],\n",
       "       [ 0.    ,  0.    , -1.    , -0.2329],\n",
       "       [ 0.    ,  1.    ,  0.    ,  0.0628],\n",
       "       [ 0.    ,  0.    ,  0.    ,  1.    ]])"
      ]
     },
     "execution_count": 24,
     "metadata": {},
     "output_type": "execute_result"
    }
   ],
   "source": [
    "ur5e.forward_kinematics(0, 0, 0, 0, 0, 0)"
   ]
  },
  {
   "cell_type": "code",
   "execution_count": 25,
   "metadata": {},
   "outputs": [
    {
     "data": {
      "text/plain": [
       "[array([[ 0.2946, -1.4225,  2.7697, -2.918 ,  1.5708,  1.2761]]),\n",
       " array([[ 0.2946,  0.9268, -2.7697,  0.2721,  1.5708,  1.2761]]),\n",
       " array([[ 0.2946, -1.1519,  2.2565,  0.4662, -1.5708, -1.8654]]),\n",
       " array([[ 0.2946,  0.9356, -2.2565,  2.8917, -1.5708, -1.8654]]),\n",
       " array([[-1.8654,  2.206 ,  2.2565,  0.2499,  1.5708, -2.8469]]),\n",
       " array([[-1.8654, -1.9897, -2.2565,  2.6754,  1.5708, -2.8469]]),\n",
       " array([[-1.8654,  2.2148,  2.7697,  2.8695, -1.5708,  0.2946]]),\n",
       " array([[-1.8654, -1.7191, -2.7697, -0.2236, -1.5708,  0.2946]])]"
      ]
     },
     "execution_count": 25,
     "metadata": {},
     "output_type": "execute_result"
    }
   ],
   "source": [
    "eef_pose = np.identity(4)\n",
    "eef_pose[0, 3] = -0.2\n",
    "eef_pose[1, 3] = -0.2\n",
    "eef_pose[2, 3] = 0.3\n",
    "ur5e.inverse_kinematics(eef_pose)"
   ]
  },
  {
   "cell_type": "code",
   "execution_count": 26,
   "metadata": {},
   "outputs": [
    {
     "data": {
      "text/plain": [
       "[array([[ 0.3036, -1.3492,  2.3681, -2.5897,  1.5708,  1.2671]]),\n",
       " array([[ 0.3036,  0.6954, -2.3681,  0.1019,  1.5708,  1.2671]]),\n",
       " array([[ 0.3036, -0.8368,  1.4621,  0.9455, -1.5708, -1.8744]]),\n",
       " array([[ 0.3036,  0.5062, -1.4621,  2.5267, -1.5708, -1.8744]]),\n",
       " array([[-1.8744,  2.6354,  1.4621,  0.6149,  1.5708, -2.8379]]),\n",
       " array([[-1.8744, -2.3048, -1.4621,  2.1961,  1.5708, -2.8379]]),\n",
       " array([[-1.8744,  2.4462,  2.3681,  3.0397, -1.5708,  0.3036]]),\n",
       " array([[-1.8744, -1.7924, -2.3681, -0.5519, -1.5708,  0.3036]])]"
      ]
     },
     "execution_count": 26,
     "metadata": {},
     "output_type": "execute_result"
    }
   ],
   "source": [
    "from ur_analytic_ik import ur3e\n",
    "ur3e.inverse_kinematics(eef_pose)"
   ]
  },
  {
   "cell_type": "code",
   "execution_count": 27,
   "metadata": {},
   "outputs": [
    {
     "data": {
      "text/plain": [
       "array([[ 1.    ,  0.    ,  0.    , -0.4567],\n",
       "       [ 0.    ,  0.    , -1.    , -0.2232],\n",
       "       [ 0.    ,  1.    ,  0.    ,  0.0665],\n",
       "       [ 0.    ,  0.    ,  0.    ,  1.    ]])"
      ]
     },
     "execution_count": 27,
     "metadata": {},
     "output_type": "execute_result"
    }
   ],
   "source": [
    "ur3e.forward_kinematics(0, 0, 0, 0, 0, 0)"
   ]
  },
  {
   "cell_type": "code",
   "execution_count": 28,
   "metadata": {},
   "outputs": [
    {
     "data": {
      "text/plain": [
       "array([[ 1.    ,  0.    ,  0.    , -0.4567],\n",
       "       [ 0.    ,  0.    , -1.    , -0.4232],\n",
       "       [ 0.    ,  1.    ,  0.    ,  0.0665],\n",
       "       [ 0.    ,  0.    ,  0.    ,  1.    ]])"
      ]
     },
     "execution_count": 28,
     "metadata": {},
     "output_type": "execute_result"
    }
   ],
   "source": [
    "tcp_transform = np.identity(4)\n",
    "tcp_transform[2, 3] = 0.2\n",
    "tcp_pose = ur3e.forward_kinematics_with_tcp(0, 0, 0, 0, 0, 0, tcp_transform)\n",
    "tcp_pose"
   ]
  },
  {
   "cell_type": "code",
   "execution_count": 29,
   "metadata": {},
   "outputs": [
    {
     "data": {
      "text/plain": [
       "array([[ 1.    ,  0.    ,  0.    , -0.4567],\n",
       "       [ 0.    ,  0.    , -1.    , -0.4232],\n",
       "       [ 0.    ,  1.    ,  0.    ,  0.0665],\n",
       "       [ 0.    ,  0.    ,  0.    ,  1.    ]])"
      ]
     },
     "execution_count": 29,
     "metadata": {},
     "output_type": "execute_result"
    }
   ],
   "source": [
    "ur3e.forward_kinematics(0, 0, 0, 0, 0, 0) @ tcp_transform"
   ]
  },
  {
   "cell_type": "code",
   "execution_count": 30,
   "metadata": {},
   "outputs": [
    {
     "data": {
      "text/plain": [
       "[array([[ 0.,  0.,  0., -0.,  0.,  0.]]),\n",
       " array([[-2.5828,  3.1416,  0.    , -3.1416, -2.5828, -0.    ]]),\n",
       " array([[-2.5828, -3.1416, -0.    ,  3.1416, -2.5828, -0.    ]])]"
      ]
     },
     "execution_count": 30,
     "metadata": {},
     "output_type": "execute_result"
    }
   ],
   "source": [
    "ur3e.inverse_kinematics_with_tcp(np.array(tcp_pose), tcp_transform)"
   ]
  },
  {
   "cell_type": "code",
   "execution_count": 31,
   "metadata": {},
   "outputs": [
    {
     "data": {
      "text/plain": [
       "array([[ 1.    ,  0.    ,  0.    , -0.4567],\n",
       "       [ 0.    ,  0.    , -1.    , -0.2232],\n",
       "       [ 0.    ,  1.    ,  0.    ,  0.0665],\n",
       "       [ 0.    ,  0.    ,  0.    ,  1.    ]])"
      ]
     },
     "execution_count": 31,
     "metadata": {},
     "output_type": "execute_result"
    }
   ],
   "source": [
    "fk = ur3e.forward_kinematics\n",
    "fk(0,0,0,0,0,0)"
   ]
  },
  {
   "cell_type": "code",
   "execution_count": 32,
   "metadata": {},
   "outputs": [
    {
     "data": {
      "text/plain": [
       "[array([[ 0.,  0.,  0., -0.,  0.,  0.]]),\n",
       " array([[-2.5828,  3.1416,  0.    , -3.1416, -2.5828, -0.    ]]),\n",
       " array([[-2.5828, -3.1416, -0.    ,  3.1416, -2.5828, -0.    ]])]"
      ]
     },
     "execution_count": 32,
     "metadata": {},
     "output_type": "execute_result"
    }
   ],
   "source": [
    "ur3e.inverse_kinematics(np.array(fk(0,0,0,0,0,0)))"
   ]
  },
  {
   "cell_type": "code",
   "execution_count": 46,
   "metadata": {},
   "outputs": [
    {
     "name": "stdout",
     "output_type": "stream",
     "text": [
      "3.39 μs ± 107 ns per loop (mean ± std. dev. of 7 runs, 100,000 loops each)\n"
     ]
    }
   ],
   "source": [
    "%%timeit\n",
    "joint_config = (np.random.rand(6)*2-1)*np.pi\n"
   ]
  },
  {
   "cell_type": "code",
   "execution_count": 50,
   "metadata": {},
   "outputs": [
    {
     "name": "stdout",
     "output_type": "stream",
     "text": [
      "8.37 μs ± 80.3 ns per loop (mean ± std. dev. of 7 runs, 100,000 loops each)\n"
     ]
    }
   ],
   "source": [
    "%%timeit\n",
    "joint_config = (np.random.rand(6)*2-1)*np.pi\n",
    "fk = ur5e.forward_kinematics(*joint_config)"
   ]
  },
  {
   "cell_type": "code",
   "execution_count": 62,
   "metadata": {},
   "outputs": [
    {
     "name": "stdout",
     "output_type": "stream",
     "text": [
      "average time =18.585238456726074 µs\n"
     ]
    }
   ],
   "source": [
    "# time the function for random poses\n",
    "import time \n",
    "N=100000\n",
    "total_time = 0\n",
    "for i in range(N):\n",
    "    joint_config = (np.random.rand(6)*2-1)*np.pi\n",
    "    fk = ur5e.forward_kinematics(*joint_config)\n",
    "    start = time.time()\n",
    "    ik = ur5e.inverse_kinematics(fk)\n",
    "    end = time.time()\n",
    "    duration = end - start \n",
    "    total_time += duration\n",
    "\n",
    "print(f\"average time ={total_time/N*1e6} µs\")\n",
    " "
   ]
  },
  {
   "cell_type": "code",
   "execution_count": 53,
   "metadata": {},
   "outputs": [
    {
     "name": "stdout",
     "output_type": "stream",
     "text": [
      "18.9 μs ± 209 ns per loop (mean ± std. dev. of 7 runs, 100,000 loops each)\n"
     ]
    }
   ],
   "source": [
    "%%timeit\n",
    "ur3e.inverse_kinematics_with_tcp(eef_pose, tcp_transform)"
   ]
  },
  {
   "cell_type": "code",
   "execution_count": 36,
   "metadata": {},
   "outputs": [
    {
     "data": {
      "text/plain": [
       "[array([[ 0.3036, -1.3492,  2.3681, -2.5897,  1.5708,  1.2671]]),\n",
       " array([[ 0.3036,  0.6954, -2.3681,  0.1019,  1.5708,  1.2671]]),\n",
       " array([[ 0.3036, -0.8368,  1.4621,  0.9455, -1.5708, -1.8744]]),\n",
       " array([[ 0.3036,  0.5062, -1.4621,  2.5267, -1.5708, -1.8744]]),\n",
       " array([[-1.8744,  2.6354,  1.4621,  0.6149,  1.5708, -2.8379]]),\n",
       " array([[-1.8744, -2.3048, -1.4621,  2.1961,  1.5708, -2.8379]]),\n",
       " array([[-1.8744,  2.4462,  2.3681,  3.0397, -1.5708,  0.3036]]),\n",
       " array([[-1.8744, -1.7924, -2.3681, -0.5519, -1.5708,  0.3036]])]"
      ]
     },
     "execution_count": 36,
     "metadata": {},
     "output_type": "execute_result"
    }
   ],
   "source": [
    "ur3e.inverse_kinematics(eef_pose)"
   ]
  },
  {
   "cell_type": "code",
   "execution_count": 37,
   "metadata": {},
   "outputs": [
    {
     "data": {
      "text/plain": [
       "[array([[ 0.3036, -1.3492,  2.3681, -2.5897,  1.5708,  1.2671]])]"
      ]
     },
     "execution_count": 37,
     "metadata": {},
     "output_type": "execute_result"
    }
   ],
   "source": [
    "ur3e.inverse_kinematics_closest(eef_pose, *np.array([0, 0, 0, 0, 0, 0]))"
   ]
  },
  {
   "cell_type": "code",
   "execution_count": 38,
   "metadata": {},
   "outputs": [
    {
     "name": "stdout",
     "output_type": "stream",
     "text": [
      "4.277890059743718\n",
      "3.2042709484377037\n",
      "3.131312140729875\n",
      "3.8537087185528494\n",
      "4.8472525160580435\n",
      "5.129061108186763\n",
      "5.186961358957139\n",
      "3.8985061740861737\n"
     ]
    }
   ],
   "source": [
    "for pose in ur3e.inverse_kinematics(eef_pose):\n",
    "    print(np.linalg.norm(pose))"
   ]
  },
  {
   "cell_type": "code",
   "execution_count": 39,
   "metadata": {},
   "outputs": [],
   "source": [
    "import numpy as np\n",
    "from ur_analytic_ik import ur3e\n",
    "\n",
    "joints = np.zeros(6)\n",
    "eef_pose = np.identity(4)\n",
    "eef_pose[2, 3] = 0.4\n",
    "tcp_transform = np.identity(4)\n",
    "tcp_transform[2, 3] = 0.1\n",
    "\n",
    "ur3e.forward_kinematics(0, 0, 0, 0, 0, 0)\n",
    "ur3e.forward_kinematics(*joints)\n",
    "tcp_pose = ur3e.forward_kinematics_with_tcp(*joints, tcp_transform)\n",
    "\n",
    "joint_solutions = ur3e.inverse_kinematics(eef_pose)\n",
    "joint_solutions = ur3e.inverse_kinematics_closest(eef_pose, *joints)\n",
    "joint_solutions = ur3e.inverse_kinematics_with_tcp(eef_pose, tcp_transform)"
   ]
  },
  {
   "cell_type": "code",
   "execution_count": 40,
   "metadata": {},
   "outputs": [],
   "source": [
    "import numpy as np\n",
    "from ur_analytic_ik import ur5e\n",
    "\n",
    "eef_pose = np.identity(4)\n",
    "X = np.array([-1.0, 0.0, 0.0])\n",
    "Y = np.array([0.0, 1.0, 0.0])\n",
    "Z = np.array([0.0, 0.0, -1.0])\n",
    "top_down_orientation = np.column_stack([X, Y, Z])\n",
    "translation = np.array([-0.2, -0.2, 0.2])\n",
    "\n",
    "eef_pose[:3, :3] = top_down_orientation\n",
    "eef_pose[:3, 3] = translation\n",
    "\n",
    "solutions = ur5e.inverse_kinematics(eef_pose)"
   ]
  },
  {
   "cell_type": "code",
   "execution_count": null,
   "metadata": {},
   "outputs": [],
   "source": []
  }
 ],
 "metadata": {
  "kernelspec": {
   "display_name": "airo-mono",
   "language": "python",
   "name": "python3"
  },
  "language_info": {
   "codemirror_mode": {
    "name": "ipython",
    "version": 3
   },
   "file_extension": ".py",
   "mimetype": "text/x-python",
   "name": "python",
   "nbconvert_exporter": "python",
   "pygments_lexer": "ipython3",
   "version": "3.9.13"
  },
  "orig_nbformat": 4,
  "vscode": {
   "interpreter": {
    "hash": "043dc9a901207ac09ff4dd0b195f25fbfbd8d964df39a41dc2aeb271f271896e"
   }
  }
 },
 "nbformat": 4,
 "nbformat_minor": 2
}
