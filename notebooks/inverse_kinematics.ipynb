{
 "cells": [
  {
   "attachments": {},
   "cell_type": "markdown",
   "metadata": {},
   "source": [
    "Implementation of the UR robots inverse kinematics based on:\n",
    "\n",
    "[Alternative Inverse Kinematic Solution of the UR5 Robotic Arm](https://link.springer.com/chapter/10.1007/978-3-030-90033-5_22)"
   ]
  },
  {
   "cell_type": "code",
   "execution_count": null,
   "metadata": {},
   "outputs": [],
   "source": [
    "import numpy as np\n",
    "np.set_printoptions(suppress=True) # Prettier printing"
   ]
  },
  {
   "cell_type": "code",
   "execution_count": null,
   "metadata": {},
   "outputs": [],
   "source": [
    "eef_rotation_matrix = np.identity(3)\n",
    "eef_rotation_matrix"
   ]
  },
  {
   "cell_type": "code",
   "execution_count": null,
   "metadata": {},
   "outputs": [],
   "source": [
    "R = eef_rotation_matrix\n",
    "r11, r12, r13 = R[0, :]\n",
    "r21, r22, r23 = R[1, :]\n",
    "r31, r32, r33 = R[2, :]\n",
    "\n",
    "r11, r12, r13, r21, r22, r23, r31, r32, r33"
   ]
  },
  {
   "cell_type": "code",
   "execution_count": null,
   "metadata": {},
   "outputs": [],
   "source": [
    "eef_translation = np.zeros(3)\n",
    "t = eef_translation\n",
    "px, py, pz = t\n",
    "px, py, pz"
   ]
  },
  {
   "cell_type": "code",
   "execution_count": null,
   "metadata": {},
   "outputs": [],
   "source": [
    "def calculate_theta1s2(r13, r23, px, py, d4, d6):\n",
    "    arg1 = py - d6 * r23\n",
    "    arg2 = px - d6 * r13\n",
    "    denominator = np.sqrt(arg1**2 + arg2**2)\n",
    "    term1 = np.arctan2(arg1, arg2) + np.pi / 2\n",
    "    term2 = np.arccos(d4 / denominator)\n",
    "    theta1_solution1 = term1 + term2 \n",
    "    theta1_solution2 = term1 - term2\n",
    "    return theta1_solution1, theta1_solution2"
   ]
  },
  {
   "cell_type": "code",
   "execution_count": null,
   "metadata": {},
   "outputs": [],
   "source": [
    "def calculate_theta1s(r13, r23, px, py, d4, d6) -> tuple[float, float]:\n",
    "    \"\"\"Calculate the two solutions for theta1.\n",
    "    Based on Equation (24) in the paper.\n",
    "    \"\"\"\n",
    "    print(\"Args:\", \"r13, px, py, d4, d6\")\n",
    "    print(\"Args:\", r13, px, py, d4, d6)\n",
    "    A1 = px - d6 * r13\n",
    "    B1 = d6 * r23 - py\n",
    "    squared_term = A1 ** 2 + B1 ** 2 - d4 ** 2\n",
    "\n",
    "    if not squared_term >= 0:\n",
    "        raise ValueError(\"Not sure if/when this occurs for the UR robots, but the paper mentions this.\")\n",
    "\n",
    "    term1 = np.arctan2(A1, B1)\n",
    "    # print(np.rad2deg(term1))\n",
    "    term2 = np.arctan2(np.sqrt(squared_term), d4)\n",
    "    # print(np.rad2deg(term2))\n",
    "    theta1_solution1 = term1 + term2 \n",
    "    theta1_solution2 = term1 - term2\n",
    "    return theta1_solution1, theta1_solution2"
   ]
  },
  {
   "cell_type": "code",
   "execution_count": null,
   "metadata": {},
   "outputs": [],
   "source": [
    "# C2 = a2\n",
    "# 3 − a2\n",
    "# 2 − d2\n",
    "# 5 − (pz − d1) (2d5c234 + 2d6s5s234 + pz − d1)\n",
    "# + (c1px + s1py) (2d5s234 − 2d6s5c234 − c1px − s1py) − d2\n",
    "# 6s2\n",
    "# 5\n",
    "\n",
    "\n",
    "def calculate_theta2(px ,py, pz, d1, d5, d6, a2, a3, c1, s1, s5, c234, s234):\n",
    "    A2 = 2 * a2 * (d1 - pz - (d5 * c234) - (d6 * s5 * s234))\n",
    "    B2 = 2 * a2 * ((d5 * s234) - (d6 * s5 * c234) - (c1 * px) - (s1 * py))\n",
    "    C2 = a3 ** 2 - a2 ** 2 - d5 ** 2 - (pz - d1) * (2 * d5 * c234 + 2 * d6 * s5 * s234 + pz - d1) + (c1 * px + s1 * py) * (2 * d5 * s234 - 2 * d6 * s5 * c234 - c1 * px - s1 * py) - d6 ** 2 * s5 ** 2\n",
    "    theta2 = np.arctan2(A2, B2) + np.arctan2(np.sqrt(A2 ** 2 + B2 ** 2 - C2 ** 2), C2)\n",
    "    print(\"Theta2\", np.rad2deg(theta2))\n",
    "    theta2_alt = np.arctan2(A2, B2) - np.arctan2(np.sqrt(A2 ** 2 + B2 ** 2 - C2 ** 2), C2)\n",
    "    print(\"Theta2 alt\", np.rad2deg(theta2_alt))\n",
    "    return theta2"
   ]
  },
  {
   "cell_type": "code",
   "execution_count": null,
   "metadata": {},
   "outputs": [],
   "source": [
    "def inverse_kinematics(eef_rotation_matrix: np.ndarray, eef_translation: np.ndarray, \n",
    "                        d1: float, d4: float, d5:float, d6: float, a2: float, a3: float):\n",
    "    # Extracting the elements\n",
    "    R = eef_rotation_matrix\n",
    "    r11, r12, r13 = R[0, :]\n",
    "    r21, r22, r23 = R[1, :]\n",
    "    r31, r32, r33 = R[2, :]\n",
    "\n",
    "    px, py, pz = eef_translation\n",
    "\n",
    "    # Calculating the joints angles\n",
    "    theta1, theta1_solution2 = calculate_theta1s(r13, r23, px, py, d4, d6)\n",
    "    # print(\"Method 1 solutions for theta0\", np.rad2deg(theta1), np.rad2deg(theta1_solution2))\n",
    "\n",
    "    s1 = np.sin(theta1)\n",
    "    c1 = np.cos(theta1)\n",
    "    c5 = s1 * r13 - c1 * r23\n",
    "    s5 = np.sqrt((s1*r11 - c1*r21)**2 + (s1*r12 - c1*r22)**2)\n",
    "    theta5 = np.arctan2(s5, c5) # TODO negative is also solution\n",
    "\n",
    "    s5 = np.sin(theta5)\n",
    "    sign5 = np.sign(s5)\n",
    "\n",
    "    c5 = np.cos(theta5)\n",
    "    theta6 = np.arctan2(sign5 * (c1 * r22 - s1 * r12), sign5 * (s1 * r11 - c1 * r21))\n",
    "\n",
    "    c6 = np.cos(theta6)\n",
    "    s6 = np.sin(theta6)\n",
    "\n",
    "    A234 = (c1 * r11) + (s1 * r21)\n",
    "    theta234 = np.arctan2((c5 * c6 * r31) - (s6 * A234), (c5 * c6 * A234) + (s6 * r31))\n",
    "\n",
    "    print(np.rad2deg(theta234))\n",
    "\n",
    "    c234 = np.cos(theta234)\n",
    "    s234 = np.sin(theta234)\n",
    "\n",
    "    calculate_theta2(px ,py, pz, d1, d5, d6, a2, a3, c1, s1, s5, c234, s234)\n",
    "\n",
    "    # KC = c1px + s1py − s234d5 + c234s5d6\n",
    "    # KS = pz − d1 + c234d5 + s234s5d6\n",
    "\n",
    "    KC = (c1 * px) + (s1 * py) - (s234 * d5) + (c234 * s5 * d6)\n",
    "    KS = pz - d1 + (c234 * d5) + (s234 * s5 * d6)\n",
    "\n",
    "    KSKC_term = (KS**2 + KC**2 - a2**2 - a3**2) / (2 * a2 * a3)\n",
    "    theta3 = np.arctan2(np.sqrt(1 - KSKC_term**2), KSKC_term)\n",
    "\n",
    "    print(np.rad2deg(theta1), np.rad2deg(theta3), np.rad2deg(theta5), np.rad2deg(theta6))\n",
    "\n",
    "    # Kc = c2 * (a2 + c3 * a3) - s2 * (s3 * a3)\n",
    "\n",
    "    # theta0_solution1, theta0_solution2 = calculate_theta1s2(r13, r23, px, py, d4, d6)\n",
    "    # print(\"Method 2 solutions for theta0\", np.rad2deg(theta0_solution1), np.rad2deg(theta0_solution2))"
   ]
  },
  {
   "attachments": {},
   "cell_type": "markdown",
   "metadata": {},
   "source": [
    "Testing with known poses.\n",
    "In this support article by UR you can find the [DH parameters of the UR robots](https://www.universal-robots.com/articles/ur/application-installation/dh-parameters-for-calculations-of-kinematics-and-dynamics/).\n",
    "\n",
    "Additionally, you can find spreadsheet there that calculates the forward kinematics of a UR5e."
   ]
  },
  {
   "attachments": {},
   "cell_type": "markdown",
   "metadata": {},
   "source": [
    "All joints angles 45 degrees for the UR5e robots:"
   ]
  },
  {
   "cell_type": "code",
   "execution_count": null,
   "metadata": {},
   "outputs": [],
   "source": [
    "eef_rotation45 = np.array([[-0.25000, -0.45711, 0.85355], [-0.95711, 0.25000, -0.14645], [-0.14645, -0.85355, -0.50000]])\n",
    "eef_rotation45"
   ]
  },
  {
   "cell_type": "code",
   "execution_count": null,
   "metadata": {},
   "outputs": [],
   "source": [
    "eef_translation45 = np.array([0.01662, -0.27149, -0.50952])\n",
    "eef_translation45"
   ]
  },
  {
   "cell_type": "code",
   "execution_count": null,
   "metadata": {},
   "outputs": [],
   "source": [
    "d1 = 0.1625\n",
    "d4 = 0.1333\n",
    "d5 = 0.0997\n",
    "d6 = 0.0996\n",
    "a2 = -0.425\t# TODO check, in the paper these a's are the negated values of those on the UR site\n",
    "a3 = -0.3922\n",
    "inverse_kinematics(eef_rotation45, eef_translation45, d1, d4, d5, d6, a2, a3)\n",
    "print(\"45 should be one of the solutions for all thetas\")"
   ]
  },
  {
   "attachments": {},
   "cell_type": "markdown",
   "metadata": {},
   "source": [
    "All joint angles 0 for the UR5e:"
   ]
  },
  {
   "cell_type": "code",
   "execution_count": null,
   "metadata": {},
   "outputs": [],
   "source": [
    "eef_rotation0 = np.array([[1, 0, 0], [0, 0, -1], [0, 1, 0]])\n",
    "eef_rotation0"
   ]
  },
  {
   "cell_type": "code",
   "execution_count": null,
   "metadata": {},
   "outputs": [],
   "source": [
    "eef_translation0 = np.array([-0.8172, -0.2329, 0.0628])\n",
    "eef_translation0"
   ]
  },
  {
   "cell_type": "code",
   "execution_count": null,
   "metadata": {},
   "outputs": [],
   "source": [
    "d1 = 0.1625\n",
    "d4 = 0.1333\n",
    "d5 = 0.0997\n",
    "d6 = 0.0996\n",
    "a2 = -0.425\t\n",
    "a3 = -0.3922\n",
    "inverse_kinematics(eef_rotation0, eef_translation0, d1, d4, d5, d6, a2, a3)\n",
    "print(\"0 should be one of the solutions for all thetas\")"
   ]
  },
  {
   "attachments": {},
   "cell_type": "markdown",
   "metadata": {},
   "source": [
    "Forward kinematics"
   ]
  },
  {
   "cell_type": "code",
   "execution_count": null,
   "metadata": {},
   "outputs": [],
   "source": [
    "def dh_matrix(theta_i, d_i, a_i, alpha_i):\n",
    "    \"\"\"Calculate the DH matrix for a given joint.\"\"\"\n",
    "    return np.array([\n",
    "        [np.cos(theta_i), -np.sin(theta_i) * np.cos(alpha_i), np.sin(theta_i) * np.sin(alpha_i), a_i * np.cos(theta_i)],\n",
    "        [np.sin(theta_i), np.cos(theta_i) * np.cos(alpha_i), -np.cos(theta_i) * np.sin(alpha_i), a_i * np.sin(theta_i)],\n",
    "        [0, np.sin(alpha_i), np.cos(alpha_i), d_i],\n",
    "        [0, 0, 0, 1]\n",
    "    ])\n",
    "\n",
    "\n",
    "d_values = [d1, 0, 0, d4, d5, d6]\n",
    "a_values = [0, a2, a3, 0, 0, 0]\n",
    "alpha_values = [np.pi / 2, 0, 0, np.pi / 2, -np.pi / 2, 0]\n",
    "theta_i = np.deg2rad(45) # same for all joints\n",
    "\n",
    "\n",
    "pose = np.identity(4)\n",
    "for i in range(6):\n",
    "    d_i = d_values[i]\n",
    "    a_i = a_values[i]\n",
    "    alpha_i = alpha_values[i]\n",
    "    pose = pose @ dh_matrix(theta_i, d_i, a_i, alpha_i)\n",
    "\n",
    "print(pose)"
   ]
  },
  {
   "cell_type": "code",
   "execution_count": null,
   "metadata": {},
   "outputs": [],
   "source": []
  }
 ],
 "metadata": {
  "kernelspec": {
   "display_name": "airo-mono",
   "language": "python",
   "name": "python3"
  },
  "language_info": {
   "codemirror_mode": {
    "name": "ipython",
    "version": 3
   },
   "file_extension": ".py",
   "mimetype": "text/x-python",
   "name": "python",
   "nbconvert_exporter": "python",
   "pygments_lexer": "ipython3",
   "version": "3.9.13 (main, Oct 13 2022, 21:15:33) \n[GCC 11.2.0]"
  },
  "orig_nbformat": 4,
  "vscode": {
   "interpreter": {
    "hash": "043dc9a901207ac09ff4dd0b195f25fbfbd8d964df39a41dc2aeb271f271896e"
   }
  }
 },
 "nbformat": 4,
 "nbformat_minor": 2
}
