{
 "cells": [
  {
   "cell_type": "code",
   "execution_count": 2,
   "metadata": {},
   "outputs": [],
   "source": [
    "import ur_analytic_ik\n",
    "from ur_analytic_ik import ur5e\n",
    "import numpy as np\n",
    "np.set_printoptions(precision=4, suppress=True) # Prettier printing"
   ]
  },
  {
   "cell_type": "code",
   "execution_count": 3,
   "metadata": {},
   "outputs": [
    {
     "data": {
      "text/plain": [
       "array([[ 1.    ,  0.    ,  0.    , -0.8172],\n",
       "       [ 0.    ,  0.    , -1.    , -0.2329],\n",
       "       [ 0.    ,  1.    ,  0.    ,  0.0628],\n",
       "       [ 0.    ,  0.    ,  0.    ,  1.    ]])"
      ]
     },
     "execution_count": 3,
     "metadata": {},
     "output_type": "execute_result"
    }
   ],
   "source": [
    "eef_pose0 = ur5e.forward_kinematics(0, 0, 0, 0, 0, 0)\n",
    "eef_pose0\n"
   ]
  },
  {
   "cell_type": "code",
   "execution_count": 4,
   "metadata": {},
   "outputs": [
    {
     "data": {
      "text/plain": [
       "array([[-0.25  , -0.4571,  0.8536,  0.0166],\n",
       "       [-0.9571,  0.25  , -0.1464, -0.2715],\n",
       "       [-0.1464, -0.8536, -0.5   , -0.5095],\n",
       "       [ 0.    ,  0.    ,  0.    ,  1.    ]])"
      ]
     },
     "execution_count": 4,
     "metadata": {},
     "output_type": "execute_result"
    }
   ],
   "source": [
    "theta45 = np.deg2rad(45)\n",
    "eef_pose45 = ur5e.forward_kinematics(theta45, theta45, theta45, theta45, theta45, theta45)\n",
    "eef_pose45"
   ]
  },
  {
   "cell_type": "code",
   "execution_count": 5,
   "metadata": {},
   "outputs": [
    {
     "name": "stdout",
     "output_type": "stream",
     "text": [
      "2.28 μs ± 132 ns per loop (mean ± std. dev. of 7 runs, 100,000 loops each)\n"
     ]
    }
   ],
   "source": [
    "%%timeit\n",
    "ur5e.forward_kinematics(theta45, theta45, theta45, theta45, theta45, theta45)"
   ]
  },
  {
   "cell_type": "code",
   "execution_count": 6,
   "metadata": {},
   "outputs": [
    {
     "name": "stdout",
     "output_type": "stream",
     "text": [
      "<class 'numpy.ndarray'> <class 'numpy.ndarray'>\n",
      "(4, 4) (4, 4)\n",
      "float64 float64\n",
      "Tensor data pointer : 0x5627d6d8ab10\n",
      "Tensor dimension : 2\n",
      "Tensor dimension [0] : 4\n",
      "Tensor stride    [0] : 4\n",
      "Tensor dimension [1] : 4\n",
      "Tensor stride    [1] : 1\n",
      "Device ID = 0 (cpu=1, cuda=0)\n",
      "Tensor dtype check: int16=0, uint32=0, float32=0, double=1\n"
     ]
    }
   ],
   "source": [
    "eef_pose = np.array(eef_pose0)\n",
    "print(type(eef_pose), type(eef_pose0))\n",
    "print(eef_pose.shape, eef_pose0.shape)\n",
    "print(eef_pose.dtype, eef_pose0.dtype)\n",
    "\n",
    "ur_analytic_ik.inspect(eef_pose) # works\n",
    "# ur_analytic_ik.inspect(eef_pose0) # error"
   ]
  },
  {
   "cell_type": "code",
   "execution_count": 7,
   "metadata": {},
   "outputs": [
    {
     "name": "stdout",
     "output_type": "stream",
     "text": [
      "All joints should be: 0\n"
     ]
    },
    {
     "data": {
      "text/plain": [
       "[array([ 0.,  0.,  0., -0.,  0.,  0.]),\n",
       " array([-2.8182,  3.1416,  0.    , -3.1416, -2.8182, -0.    ]),\n",
       " array([-2.8182, -3.1416, -0.    ,  3.1416, -2.8182, -0.    ])]"
      ]
     },
     "execution_count": 7,
     "metadata": {},
     "output_type": "execute_result"
    }
   ],
   "source": [
    "eef_pose = np.array(eef_pose0)\n",
    "print(\"All joints should be:\", 0)\n",
    "solutions = ur5e.inverse_kinematics(eef_pose)\n",
    "solutions"
   ]
  },
  {
   "cell_type": "code",
   "execution_count": 8,
   "metadata": {},
   "outputs": [
    {
     "data": {
      "text/plain": [
       "[array([ 0.,  0.,  0., -0.,  0.,  0.]),\n",
       " array([-2.8182,  3.1416,  0.    , -3.1416, -2.8182, -0.    ]),\n",
       " array([-2.8182, -3.1416, -0.    ,  3.1416, -2.8182, -0.    ])]"
      ]
     },
     "execution_count": 8,
     "metadata": {},
     "output_type": "execute_result"
    }
   ],
   "source": [
    "def filter_solutions(solutions):\n",
    "    filtered = [solution for solution in solutions if not np.isnan(solution).any()]\n",
    "    return filtered\n",
    "\n",
    "filter_solutions(solutions)"
   ]
  },
  {
   "cell_type": "code",
   "execution_count": 9,
   "metadata": {},
   "outputs": [
    {
     "data": {
      "text/plain": [
       "array([[-2.8182, -3.1416, -0.    ,  3.1416, -2.8182, -0.    ],\n",
       "       [-2.8182,  3.1416,  0.    , -3.1416, -2.8182, -0.    ],\n",
       "       [ 0.    ,  0.    ,  0.    , -0.    ,  0.    ,  0.    ]])"
      ]
     },
     "execution_count": 9,
     "metadata": {},
     "output_type": "execute_result"
    }
   ],
   "source": [
    "unique_solutions = np.unique(filter_solutions(solutions), axis=0)\n",
    "unique_solutions"
   ]
  },
  {
   "cell_type": "code",
   "execution_count": 10,
   "metadata": {},
   "outputs": [
    {
     "name": "stdout",
     "output_type": "stream",
     "text": [
      "64.1 μs ± 4.07 μs per loop (mean ± std. dev. of 7 runs, 10,000 loops each)\n"
     ]
    }
   ],
   "source": [
    "%%timeit\n",
    "np.unique(filter_solutions(solutions), axis=0)"
   ]
  },
  {
   "cell_type": "code",
   "execution_count": 11,
   "metadata": {},
   "outputs": [
    {
     "name": "stdout",
     "output_type": "stream",
     "text": [
      "5.31 μs ± 1.52 μs per loop (mean ± std. dev. of 7 runs, 100,000 loops each)\n"
     ]
    }
   ],
   "source": [
    "%%timeit\n",
    "filter_solutions(solutions)"
   ]
  },
  {
   "cell_type": "code",
   "execution_count": 12,
   "metadata": {},
   "outputs": [
    {
     "data": {
      "text/plain": [
       "[array([ 0.,  0.,  0., -0.,  0.,  0.]),\n",
       " array([-2.8182,  3.1416,  0.    , -3.1416, -2.8182, -0.    ]),\n",
       " array([-2.8182, -3.1416, -0.    ,  3.1416, -2.8182, -0.    ])]"
      ]
     },
     "execution_count": 12,
     "metadata": {},
     "output_type": "execute_result"
    }
   ],
   "source": [
    "def filter_solutions2(solutions):\n",
    "    filtered = [solution for solution in solutions if not np.isnan(np.sum(solution))]\n",
    "    return filtered\n",
    "\n",
    "filter_solutions2(solutions)"
   ]
  },
  {
   "cell_type": "code",
   "execution_count": 13,
   "metadata": {},
   "outputs": [
    {
     "name": "stdout",
     "output_type": "stream",
     "text": [
      "9.5 μs ± 230 ns per loop (mean ± std. dev. of 7 runs, 100,000 loops each)\n"
     ]
    }
   ],
   "source": [
    "%%timeit\n",
    "filter_solutions2(solutions)"
   ]
  },
  {
   "cell_type": "code",
   "execution_count": 14,
   "metadata": {},
   "outputs": [
    {
     "data": {
      "text/plain": [
       "array([-2.8182, -3.1416, -0.    ,  3.1416, -2.8182, -0.    ])"
      ]
     },
     "execution_count": 14,
     "metadata": {},
     "output_type": "execute_result"
    }
   ],
   "source": [
    "solution8 = solutions[-1]\n",
    "solution8"
   ]
  },
  {
   "cell_type": "code",
   "execution_count": 15,
   "metadata": {},
   "outputs": [
    {
     "data": {
      "text/plain": [
       "(6,)"
      ]
     },
     "execution_count": 15,
     "metadata": {},
     "output_type": "execute_result"
    }
   ],
   "source": [
    "solution8.shape"
   ]
  },
  {
   "cell_type": "code",
   "execution_count": 16,
   "metadata": {},
   "outputs": [
    {
     "data": {
      "text/plain": [
       "array([-161.4712, -180.    ,   -0.    ,  180.    , -161.4712,   -0.    ])"
      ]
     },
     "execution_count": 16,
     "metadata": {},
     "output_type": "execute_result"
    }
   ],
   "source": [
    "np.rad2deg(solution8)"
   ]
  },
  {
   "cell_type": "code",
   "execution_count": 17,
   "metadata": {},
   "outputs": [
    {
     "data": {
      "text/plain": [
       "array([[ 1.    ,  0.    , -0.    , -0.8172],\n",
       "       [ 0.    , -0.    , -1.    , -0.2329],\n",
       "       [-0.    ,  1.    , -0.    ,  0.0628],\n",
       "       [ 0.    ,  0.    ,  0.    ,  1.    ]])"
      ]
     },
     "execution_count": 17,
     "metadata": {},
     "output_type": "execute_result"
    }
   ],
   "source": [
    "ur5e.forward_kinematics(*solution8.T)"
   ]
  },
  {
   "cell_type": "code",
   "execution_count": 18,
   "metadata": {},
   "outputs": [
    {
     "name": "stdout",
     "output_type": "stream",
     "text": [
      "All joints should be: 0.7853981633974483\n"
     ]
    },
    {
     "data": {
      "text/plain": [
       "[array([0.7854, 0.7854, 0.7854, 0.7854, 0.7854, 0.7854]),\n",
       " array([ 0.7854,  1.5375, -0.7854,  1.604 ,  0.7854,  0.7854]),\n",
       " array([ 0.7854,  0.5377,  1.5846, -2.9077, -0.7854, -2.3562]),\n",
       " array([ 0.7854,  2.041 , -1.5846, -1.2418, -0.7854, -2.3562]),\n",
       " array([-1.3058,  1.2622,  1.0985, -0.1594,  2.4741, -0.6521]),\n",
       " array([-1.3058,  2.3116, -1.0985,  0.9882,  2.4741, -0.6521]),\n",
       " array([-1.3058,  1.441 ,  1.3301,  2.5718, -2.4741,  2.4895]),\n",
       " array([-1.3058,  2.7081, -1.3301, -2.3184, -2.4741,  2.4895])]"
      ]
     },
     "execution_count": 18,
     "metadata": {},
     "output_type": "execute_result"
    }
   ],
   "source": [
    "eef_pose = np.array(eef_pose45)\n",
    "print(\"All joints should be:\", np.deg2rad(45))\n",
    "ur5e.inverse_kinematics(eef_pose)"
   ]
  },
  {
   "cell_type": "code",
   "execution_count": 19,
   "metadata": {},
   "outputs": [
    {
     "name": "stdout",
     "output_type": "stream",
     "text": [
      "20.1 μs ± 584 ns per loop (mean ± std. dev. of 7 runs, 100,000 loops each)\n"
     ]
    }
   ],
   "source": [
    "%%timeit\n",
    "ur5e.inverse_kinematics(eef_pose)"
   ]
  },
  {
   "cell_type": "code",
   "execution_count": 20,
   "metadata": {},
   "outputs": [
    {
     "data": {
      "text/plain": [
       "[array([0.7854, 0.7854, 0.7854, 0.7854, 0.7854, 0.7854]),\n",
       " array([ 0.7854,  1.5375, -0.7854,  1.604 ,  0.7854,  0.7854]),\n",
       " array([ 0.7854,  0.5377,  1.5846, -2.9077, -0.7854, -2.3562]),\n",
       " array([ 0.7854,  2.041 , -1.5846, -1.2418, -0.7854, -2.3562]),\n",
       " array([-1.3058,  1.2622,  1.0985, -0.1594,  2.4741, -0.6521]),\n",
       " array([-1.3058,  2.3116, -1.0985,  0.9882,  2.4741, -0.6521]),\n",
       " array([-1.3058,  1.441 ,  1.3301,  2.5718, -2.4741,  2.4895]),\n",
       " array([-1.3058,  2.7081, -1.3301, -2.3184, -2.4741,  2.4895])]"
      ]
     },
     "execution_count": 20,
     "metadata": {},
     "output_type": "execute_result"
    }
   ],
   "source": [
    "ur5e.inverse_kinematics(eef_pose)"
   ]
  },
  {
   "cell_type": "code",
   "execution_count": 21,
   "metadata": {},
   "outputs": [
    {
     "data": {
      "text/plain": [
       "\"inverse_kinematics(arg: numpy.ndarray[dtype=float64, shape=(4, 4), order='C'], /) -> list[numpy.ndarray[dtype=float64, shape=(6), order='C']]\""
      ]
     },
     "execution_count": 21,
     "metadata": {},
     "output_type": "execute_result"
    }
   ],
   "source": [
    "ur5e.inverse_kinematics.__doc__"
   ]
  },
  {
   "cell_type": "code",
   "execution_count": null,
   "metadata": {},
   "outputs": [],
   "source": []
  }
 ],
 "metadata": {
  "kernelspec": {
   "display_name": "ur-ik",
   "language": "python",
   "name": "python3"
  },
  "language_info": {
   "codemirror_mode": {
    "name": "ipython",
    "version": 3
   },
   "file_extension": ".py",
   "mimetype": "text/x-python",
   "name": "python",
   "nbconvert_exporter": "python",
   "pygments_lexer": "ipython3",
   "version": "3.11.11"
  },
  "orig_nbformat": 4
 },
 "nbformat": 4,
 "nbformat_minor": 2
}
