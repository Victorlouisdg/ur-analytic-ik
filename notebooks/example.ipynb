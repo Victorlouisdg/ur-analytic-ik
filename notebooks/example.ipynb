{
 "cells": [
  {
   "cell_type": "code",
   "execution_count": null,
   "metadata": {},
   "outputs": [],
   "source": [
    "import ur_analytic_ik\n",
    "from ur_analytic_ik import ur5e\n",
    "import numpy as np\n",
    "np.set_printoptions(precision=4, suppress=True) # Prettier printing"
   ]
  },
  {
   "cell_type": "code",
   "execution_count": null,
   "metadata": {},
   "outputs": [],
   "source": [
    "eef_pose0 = ur5e.forward_kinematics(0, 0, 0, 0, 0, 0)\n",
    "eef_pose0\n"
   ]
  },
  {
   "cell_type": "code",
   "execution_count": null,
   "metadata": {},
   "outputs": [],
   "source": [
    "theta45 = np.deg2rad(45)\n",
    "eef_pose45 = ur5e.forward_kinematics(theta45, theta45, theta45, theta45, theta45, theta45)\n",
    "eef_pose45"
   ]
  },
  {
   "cell_type": "code",
   "execution_count": null,
   "metadata": {},
   "outputs": [],
   "source": [
    "%%timeit\n",
    "ur5e.forward_kinematics(theta45, theta45, theta45, theta45, theta45, theta45)"
   ]
  },
  {
   "cell_type": "code",
   "execution_count": null,
   "metadata": {},
   "outputs": [],
   "source": [
    "eef_pose = np.array(eef_pose0)\n",
    "print(type(eef_pose), type(eef_pose0))\n",
    "print(eef_pose.shape, eef_pose0.shape)\n",
    "print(eef_pose.dtype, eef_pose0.dtype)\n",
    "\n",
    "ur_analytic_ik.inspect(eef_pose) # works\n",
    "# ur_analytic_ik.inspect(eef_pose0) # error"
   ]
  },
  {
   "cell_type": "code",
   "execution_count": null,
   "metadata": {},
   "outputs": [],
   "source": [
    "eef_pose = np.array(eef_pose0)\n",
    "print(\"All joints should be:\", 0)\n",
    "solutions = ur5e.inverse_kinematics(eef_pose)\n",
    "solutions"
   ]
  },
  {
   "cell_type": "code",
   "execution_count": null,
   "metadata": {},
   "outputs": [],
   "source": [
    "def filter_solutions(solutions):\n",
    "    filtered = [solution for solution in solutions if not np.isnan(solution).any()]\n",
    "    return filtered\n",
    "\n",
    "filter_solutions(solutions)"
   ]
  },
  {
   "cell_type": "code",
   "execution_count": null,
   "metadata": {},
   "outputs": [],
   "source": [
    "unique_solutions = np.unique(filter_solutions(solutions), axis=0)\n",
    "unique_solutions"
   ]
  },
  {
   "cell_type": "code",
   "execution_count": null,
   "metadata": {},
   "outputs": [],
   "source": [
    "%%timeit\n",
    "np.unique(filter_solutions(solutions), axis=0)"
   ]
  },
  {
   "cell_type": "code",
   "execution_count": null,
   "metadata": {},
   "outputs": [],
   "source": [
    "%%timeit\n",
    "filter_solutions(solutions)"
   ]
  },
  {
   "cell_type": "code",
   "execution_count": null,
   "metadata": {},
   "outputs": [],
   "source": [
    "def filter_solutions2(solutions):\n",
    "    filtered = [solution for solution in solutions if not np.isnan(np.sum(solution))]\n",
    "    return filtered\n",
    "\n",
    "filter_solutions2(solutions)"
   ]
  },
  {
   "cell_type": "code",
   "execution_count": null,
   "metadata": {},
   "outputs": [],
   "source": [
    "%%timeit\n",
    "filter_solutions2(solutions)"
   ]
  },
  {
   "cell_type": "code",
   "execution_count": null,
   "metadata": {},
   "outputs": [],
   "source": [
    "solution8 = solutions[-1]\n",
    "solution8"
   ]
  },
  {
   "cell_type": "code",
   "execution_count": null,
   "metadata": {},
   "outputs": [],
   "source": [
    "solution8.shape"
   ]
  },
  {
   "cell_type": "code",
   "execution_count": null,
   "metadata": {},
   "outputs": [],
   "source": [
    "np.rad2deg(solution8)"
   ]
  },
  {
   "cell_type": "code",
   "execution_count": null,
   "metadata": {},
   "outputs": [],
   "source": [
    "ur5e.forward_kinematics(*solution8.T)"
   ]
  },
  {
   "cell_type": "code",
   "execution_count": null,
   "metadata": {},
   "outputs": [],
   "source": [
    "eef_pose = np.array(eef_pose45)\n",
    "print(\"All joints should be:\", np.deg2rad(45))\n",
    "ur5e.inverse_kinematics(eef_pose)"
   ]
  },
  {
   "cell_type": "code",
   "execution_count": null,
   "metadata": {},
   "outputs": [],
   "source": [
    "%%timeit\n",
    "ur5e.inverse_kinematics(eef_pose)"
   ]
  },
  {
   "cell_type": "code",
   "execution_count": null,
   "metadata": {},
   "outputs": [],
   "source": [
    "ur5e.inverse_kinematics(eef_pose)"
   ]
  },
  {
   "cell_type": "code",
   "execution_count": null,
   "metadata": {},
   "outputs": [],
   "source": [
    "ur5e.inverse_kinematics.__doc__"
   ]
  },
  {
   "cell_type": "code",
   "execution_count": null,
   "metadata": {},
   "outputs": [],
   "source": []
  }
 ],
 "metadata": {
  "kernelspec": {
   "display_name": "airo-mono",
   "language": "python",
   "name": "python3"
  },
  "language_info": {
   "codemirror_mode": {
    "name": "ipython",
    "version": 3
   },
   "file_extension": ".py",
   "mimetype": "text/x-python",
   "name": "python",
   "nbconvert_exporter": "python",
   "pygments_lexer": "ipython3",
   "version": "3.9.13 (main, Oct 13 2022, 21:15:33) \n[GCC 11.2.0]"
  },
  "orig_nbformat": 4,
  "vscode": {
   "interpreter": {
    "hash": "043dc9a901207ac09ff4dd0b195f25fbfbd8d964df39a41dc2aeb271f271896e"
   }
  }
 },
 "nbformat": 4,
 "nbformat_minor": 2
}
