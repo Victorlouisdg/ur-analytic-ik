{
 "cells": [
  {
   "cell_type": "markdown",
   "metadata": {},
   "source": [
    "## Comparison of analytic IK module against real robot\n",
    "\n",
    "we collected pairs of joint configs and eef poses for a real UR5e. We included challenging poses such as ones that are on the edge of the workspace or close to a singularity. \n",
    "\n",
    "In this notebook we compare calculated IK/FK against the actual joint configs/poses to see \n",
    "1. if the code works\n",
    "2. assess the impact of the default DH params vs the calibrated DH params\n",
    "3. assert the completeness of the IK equations\n",
    "\n",
    "\n"
   ]
  },
  {
   "cell_type": "code",
   "execution_count": 29,
   "metadata": {},
   "outputs": [],
   "source": [
    "import numpy as np\n",
    "from ur_analytic_ik import ur5e\n",
    "\n",
    "np.set_printoptions(precision=4, suppress=True) # Prettier printing\n"
   ]
  },
  {
   "cell_type": "code",
   "execution_count": 30,
   "metadata": {},
   "outputs": [],
   "source": [
    "with open(\"ur5e_poses.txt\") as f:\n",
    "    lines = f.readlines()\n"
   ]
  },
  {
   "cell_type": "code",
   "execution_count": 31,
   "metadata": {},
   "outputs": [],
   "source": [
    "joint_config_pose_pairs = []\n",
    "for line in lines:\n",
    "    if len(line) == 1:\n",
    "        continue\n",
    "    joint_config, pose = line.split(\";\")[0], line.split(\";\")[1]\n",
    "    joint_config = joint_config.split(\",\")\n",
    "    # strip the brackets\n",
    "    joint_config[0] = joint_config[0][1:]\n",
    "    joint_config[-1] = joint_config[-1][:-1]\n",
    "    joint_config = [float(j) for j in joint_config]\n",
    "    \n",
    "    pose = pose.split(\",\")\n",
    "    # remove all brackets\n",
    "    for i in range(len(pose)):\n",
    "        pose[i] = pose[i].replace(\"[\", \"\").replace(\"]\", \"\")\n",
    "    pose = [float(p) for p in pose]\n",
    "    pose = np.array(pose).reshape(4, 4)\n",
    "    joint_config_pose_pairs.append((joint_config, pose))\n"
   ]
  },
  {
   "cell_type": "code",
   "execution_count": 32,
   "metadata": {},
   "outputs": [
    {
     "name": "stdout",
     "output_type": "stream",
     "text": [
      "fk pose vs real pose with distance 0.0018118633601494816 m\n",
      "fk pose vs real pose with distance 0.001244811756654254 m\n",
      "fk pose vs real pose with distance 0.0016960076410719273 m\n",
      "fk pose vs real pose with distance 0.001823231630988334 m\n",
      "fk pose vs real pose with distance 0.0013480485905176857 m\n",
      "fk pose vs real pose with distance 0.001334366907552316 m\n",
      "fk pose vs real pose with distance 0.001429664226362876 m\n",
      "fk pose vs real pose with distance 0.0014651598985280685 m\n",
      "fk pose vs real pose with distance 0.0014481558396959072 m\n",
      "fk pose vs real pose with distance 0.0018434954707430456 m\n"
     ]
    }
   ],
   "source": [
    "fk_poses = []\n",
    "\n",
    "for joint_config, pose in joint_config_pose_pairs:\n",
    "    fk_pose = ur5e.forward_kinematics(*joint_config)\n",
    "    fk_poses.append(fk_pose)\n",
    "    distance = np.linalg.norm(fk_pose[:3,3] - pose[:3,3])\n",
    "    print(f\"fk pose vs real pose with distance {distance} m\")\n",
    "\n"
   ]
  },
  {
   "cell_type": "markdown",
   "metadata": {},
   "source": [
    "we can see that the robot's poses differ approx 2mm from the calculated poses, most likely due to the calibrated DH parameters."
   ]
  },
  {
   "cell_type": "code",
   "execution_count": 33,
   "metadata": {},
   "outputs": [
    {
     "name": "stdout",
     "output_type": "stream",
     "text": [
      "joint config vs ik joint config with distance 0.007135091262535225 rad\n",
      "joint config vs ik joint config with distance 0.0068736539252271835 rad\n",
      "no ik solution found\n",
      "joint config vs ik joint config with distance 0.00648563672138501 rad\n",
      "joint config vs ik joint config with distance 0.011152488236170929 rad\n",
      "joint config vs ik joint config with distance 0.01071535318145833 rad\n",
      "joint config vs ik joint config with distance 0.008245401296536689 rad\n",
      "joint config vs ik joint config with distance 0.008531492436559675 rad\n",
      "joint config vs ik joint config with distance 0.00854205339004058 rad\n",
      "joint config vs ik joint config with distance 0.007467297721403651 rad\n"
     ]
    }
   ],
   "source": [
    "for joint_config,pose in joint_config_pose_pairs:\n",
    "    joint_config_ik = ur5e.inverse_kinematics_closest(pose,*joint_config)\n",
    "    if len(joint_config_ik) == 0:\n",
    "        print(\"no ik solution found\")\n",
    "        continue\n",
    "    joint_config_ik = np.array(joint_config_ik[0])\n",
    "\n",
    "    distance = np.linalg.norm(joint_config-joint_config_ik)\n",
    "    print(f\"joint config vs ik joint config with distance {distance} rad\")"
   ]
  },
  {
   "cell_type": "markdown",
   "metadata": {},
   "source": [
    "one of the poses has no IK solution, which might seem problematic. However, this is a pose where the robot is fully stretched out. Moving it 1mm towards the base, results in an IK solution, as can be seen below:\n",
    "\n",
    "Two plausible causes:\n",
    "\n",
    "1. different between actual DH params and default DH params (could be indeed unreachable for default)\n",
    "2. limit in coverage of the analytic IK on the boundary of the workspace, where you never want to be anyways."
   ]
  },
  {
   "cell_type": "code",
   "execution_count": 41,
   "metadata": {},
   "outputs": [
    {
     "name": "stdout",
     "output_type": "stream",
     "text": [
      "[array([-0.011 , -1.58  ,  0.0171, -0.0061,  1.5723,  0.0049])]\n",
      "[1.430511474609375e-06, -1.5707653678221796, -5.975520616630092e-05, -5.525401611805592e-07, 1.5707817077636719, -1.1746083394825746e-05]\n",
      "0.02371973657362765\n"
     ]
    }
   ],
   "source": [
    "joints, pose = joint_config_pose_pairs[2]\n",
    "\n",
    "pose_test = pose.copy()\n",
    "pose_test[2,3] -= 0.001\n",
    "\n",
    "joints_ik = ur5e.inverse_kinematics_closest(pose_test, *joints)\n",
    "print(joints_ik)\n",
    "print(joints)\n",
    "print(np.linalg.norm(joints-joints_ik[0]))"
   ]
  }
 ],
 "metadata": {
  "kernelspec": {
   "display_name": "ur-ik",
   "language": "python",
   "name": "python3"
  },
  "language_info": {
   "codemirror_mode": {
    "name": "ipython",
    "version": 3
   },
   "file_extension": ".py",
   "mimetype": "text/x-python",
   "name": "python",
   "nbconvert_exporter": "python",
   "pygments_lexer": "ipython3",
   "version": "3.11.11"
  }
 },
 "nbformat": 4,
 "nbformat_minor": 2
}
