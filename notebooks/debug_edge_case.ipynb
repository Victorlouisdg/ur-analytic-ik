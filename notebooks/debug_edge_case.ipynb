{
 "cells": [
  {
   "cell_type": "code",
   "execution_count": null,
   "metadata": {},
   "outputs": [],
   "source": [
    "import numpy as np\n",
    "from ur_analytic_ik import ur5e\n",
    "\n",
    "np.set_printoptions(precision=4, suppress=True) # Prettier printing\n",
    "\n",
    "edge_case_joints = [\n",
    "    np.deg2rad([0, -45, -90, -90, 90, 0])\n",
    "]\n",
    "\n",
    "for joints in edge_case_joints:\n",
    "    original_eef_pose = np.array(ur5e.forward_kinematics(*joints))\n",
    "    joint_solutions = ur5e.inverse_kinematics(original_eef_pose)\n",
    "\n",
    "    for joints in joint_solutions:\n",
    "        eef_pose = np.array(ur5e.forward_kinematics(*joints.squeeze()))\n",
    "\n",
    "        print(eef_pose)\n",
    "        # assert np.allclose(eef_pose, original_eef_pose)\n"
   ]
  },
  {
   "cell_type": "code",
   "execution_count": null,
   "metadata": {},
   "outputs": [],
   "source": []
  }
 ],
 "metadata": {
  "kernelspec": {
   "display_name": "cloth-competition",
   "language": "python",
   "name": "python3"
  },
  "language_info": {
   "codemirror_mode": {
    "name": "ipython",
    "version": 3
   },
   "file_extension": ".py",
   "mimetype": "text/x-python",
   "name": "python",
   "nbconvert_exporter": "python",
   "pygments_lexer": "ipython3",
   "version": "3.10.13"
  }
 },
 "nbformat": 4,
 "nbformat_minor": 2
}
